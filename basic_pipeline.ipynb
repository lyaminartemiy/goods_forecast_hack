{
 "cells": [
  {
   "cell_type": "markdown",
   "id": "c36ba785",
   "metadata": {},
   "source": [
    "## Libraries"
   ]
  },
  {
   "cell_type": "code",
   "execution_count": 1,
   "id": "e200f77b",
   "metadata": {},
   "outputs": [],
   "source": [
    "import os\n",
    "import pandas as pd\n",
    "import numpy as np\n",
    "\n",
    "import seaborn as sns\n",
    "from matplotlib import pyplot as plt\n",
    "import tqdm.notebook as tqdm\n",
    "\n",
    "from sklearn.metrics import roc_auc_score, roc_curve\n",
    "from sklearn.model_selection import train_test_split\n",
    "\n",
    "import catboost\n",
    "from catboost import Pool, CatBoostClassifier\n",
    "import xgboost\n",
    "from xgboost import XGBClassifier\n",
    "import lightgbm\n",
    "from lightgbm import LGBMClassifier\n",
    "from sklearn.ensemble import RandomForestClassifier\n",
    "from flaml import AutoML\n",
    "from sklearn.ensemble import StackingClassifier"
   ]
  },
  {
   "cell_type": "markdown",
   "id": "0eb2eb54",
   "metadata": {},
   "source": [
    "## Config"
   ]
  },
  {
   "cell_type": "code",
   "execution_count": 2,
   "id": "0f5a436e",
   "metadata": {},
   "outputs": [],
   "source": [
    "class Config:\n",
    "    \"\"\"\n",
    "        Класс конфигураций\n",
    "    \"\"\"\n",
    "    def __init__(self, train_path, test_path, test_size=0.25, \n",
    "                 shuffle=False, target_name=None, id_name=None):\n",
    "        self.train_path = train_path\n",
    "        self.test_path = test_path\n",
    "\n",
    "        self.test_size = test_size\n",
    "        self.shuffle = shuffle\n",
    "        \n",
    "        self.target_name = target_name\n",
    "        self.id_name = id_name\n"
   ]
  },
  {
   "cell_type": "code",
   "execution_count": 3,
   "id": "5ea67c8e",
   "metadata": {},
   "outputs": [],
   "source": [
    "params = dict(\n",
    "    train_path=\"train.csv\",\n",
    "    test_path=\"test.csv\",\n",
    "    \n",
    "    test_size=0.25,\n",
    "    \n",
    "    # Другие параметры (если нужны):\n",
    "    target_name='SalePrice',\n",
    "    id_name='Id'\n",
    ")\n",
    "\n",
    "config = Config(**params)"
   ]
  },
  {
   "cell_type": "markdown",
   "id": "7a077bb4",
   "metadata": {},
   "source": [
    "## Data Handling"
   ]
  },
  {
   "cell_type": "code",
   "execution_count": 4,
   "id": "dd712abf",
   "metadata": {},
   "outputs": [],
   "source": [
    "class DataHandling:\n",
    "    \"\"\"\n",
    "        Class for Data preprocessing\n",
    "    \"\"\"\n",
    "    def __init__(self):\n",
    "        # Исходные данные !Нельзя менять!\n",
    "        self.src_train_df = pd.read_csv(config.train_path)\n",
    "        self.src_test_df = pd.read_csv(config.test_path)\n",
    "        \n",
    "        # Данные с предобработкой\n",
    "        self.train_df = pd.read_csv(config.train_path)\n",
    "        self.test_df = pd.read_csv(config.test_path)\n",
    "        \n",
    "        # Вспомогательные данные\n",
    "        self.target_name = config.target_name\n",
    "        self.id_name = config.id_name\n",
    "        \n",
    "        # --- Важно! ---\n",
    "        # Все написанные тобой методы (например your_method)\n",
    "        # Должны использовать исходные `self.src_train_df` и `self.src_test_df`\n",
    "        # И применяться к `self.train_df` и `self.test_df` ниже (по очереди)\n",
    "        # self.your_method(self, fillna_value=100)\n",
    "        ...  # Остальные методы\n",
    "        \n",
    "    def your_method(self, fillna_value):\n",
    "        \"\"\"\n",
    "            Пример твоего кастомного метода, который использует исходные train_df и test_df\n",
    "        \"\"\"\n",
    "        # Копируем исходные данные\n",
    "        train_data = self.src_train_df.copy()\n",
    "        test_data = self.src_test_df.copy()\n",
    "        \n",
    "        # Предобрабатываем по своей хотелке и записываем результат в self.train_df и self.test_df\n",
    "        self.train_df['Price'] = train_data['Price'].fillna(fillna_value)\n",
    "        self.test_df['Price'] = test_data['Price'].fillna(fillna_value)\n",
    "    \n",
    "    def get_source_data(self):\n",
    "        \"\"\"\n",
    "            Метод для получения исходных данных\n",
    "        \"\"\"\n",
    "        return self.src_train_df.copy(), self.src_test_df.copy()\n",
    "        \n",
    "    def get_train_data(self):\n",
    "        \"\"\"\n",
    "            Метод для получения тренировочных данных\n",
    "        \"\"\"\n",
    "        data = self.train_df.copy()\n",
    "        self.X = data.drop(columns=[self.target_name, self.id_name])\n",
    "        self.y = data[self.target_name]\n",
    "        return self.X, self.y\n",
    "    \n",
    "    def get_test_data(self):\n",
    "        \"\"\"\n",
    "            Получение тестовой выборки для предсказания\n",
    "        \"\"\"\n",
    "        data = self.test_df.copy()\n",
    "        self.X = data.drop(columns=[self.id_name])\n",
    "        return self.X\n",
    "    \n",
    "    def get_test_id(self):\n",
    "        \"\"\"\n",
    "            Получение id для сабмита\n",
    "        \"\"\"\n",
    "        if self.id_name is None:\n",
    "            print(\"Нет ID в тестовой выборке!\")\n",
    "            return None\n",
    "        else:\n",
    "            return self.test_df[self.id_name]\n",
    "        \n",
    "    def get_train_test_split(self, test_size=config.test_size, shuffle=config.shuffle):\n",
    "        \"\"\"\n",
    "            Разбиение на обучающую и отложенную выборки:\n",
    "            -- С параметрами в зависимости от конфигураций\n",
    "        \"\"\"\n",
    "        X, y = self.get_train_data()\n",
    "        return train_test_split(X, y, test_size=test_size, shuffle=shuffle)\n"
   ]
  },
  {
   "cell_type": "code",
   "execution_count": 5,
   "id": "67cf14c7",
   "metadata": {},
   "outputs": [],
   "source": [
    "dataset = DataHandling()"
   ]
  },
  {
   "cell_type": "code",
   "execution_count": 6,
   "id": "e61b3d08",
   "metadata": {},
   "outputs": [
    {
     "data": {
      "text/html": [
       "<div>\n",
       "<style scoped>\n",
       "    .dataframe tbody tr th:only-of-type {\n",
       "        vertical-align: middle;\n",
       "    }\n",
       "\n",
       "    .dataframe tbody tr th {\n",
       "        vertical-align: top;\n",
       "    }\n",
       "\n",
       "    .dataframe thead th {\n",
       "        text-align: right;\n",
       "    }\n",
       "</style>\n",
       "<table border=\"1\" class=\"dataframe\">\n",
       "  <thead>\n",
       "    <tr style=\"text-align: right;\">\n",
       "      <th></th>\n",
       "      <th>Id</th>\n",
       "      <th>MSSubClass</th>\n",
       "      <th>MSZoning</th>\n",
       "      <th>LotFrontage</th>\n",
       "      <th>LotArea</th>\n",
       "      <th>Street</th>\n",
       "      <th>Alley</th>\n",
       "      <th>LotShape</th>\n",
       "      <th>LandContour</th>\n",
       "      <th>Utilities</th>\n",
       "      <th>...</th>\n",
       "      <th>PoolArea</th>\n",
       "      <th>PoolQC</th>\n",
       "      <th>Fence</th>\n",
       "      <th>MiscFeature</th>\n",
       "      <th>MiscVal</th>\n",
       "      <th>MoSold</th>\n",
       "      <th>YrSold</th>\n",
       "      <th>SaleType</th>\n",
       "      <th>SaleCondition</th>\n",
       "      <th>SalePrice</th>\n",
       "    </tr>\n",
       "  </thead>\n",
       "  <tbody>\n",
       "    <tr>\n",
       "      <th>0</th>\n",
       "      <td>1</td>\n",
       "      <td>60</td>\n",
       "      <td>RL</td>\n",
       "      <td>65.0</td>\n",
       "      <td>8450</td>\n",
       "      <td>Pave</td>\n",
       "      <td>NaN</td>\n",
       "      <td>Reg</td>\n",
       "      <td>Lvl</td>\n",
       "      <td>AllPub</td>\n",
       "      <td>...</td>\n",
       "      <td>0</td>\n",
       "      <td>NaN</td>\n",
       "      <td>NaN</td>\n",
       "      <td>NaN</td>\n",
       "      <td>0</td>\n",
       "      <td>2</td>\n",
       "      <td>2008</td>\n",
       "      <td>WD</td>\n",
       "      <td>Normal</td>\n",
       "      <td>208500</td>\n",
       "    </tr>\n",
       "    <tr>\n",
       "      <th>1</th>\n",
       "      <td>2</td>\n",
       "      <td>20</td>\n",
       "      <td>RL</td>\n",
       "      <td>80.0</td>\n",
       "      <td>9600</td>\n",
       "      <td>Pave</td>\n",
       "      <td>NaN</td>\n",
       "      <td>Reg</td>\n",
       "      <td>Lvl</td>\n",
       "      <td>AllPub</td>\n",
       "      <td>...</td>\n",
       "      <td>0</td>\n",
       "      <td>NaN</td>\n",
       "      <td>NaN</td>\n",
       "      <td>NaN</td>\n",
       "      <td>0</td>\n",
       "      <td>5</td>\n",
       "      <td>2007</td>\n",
       "      <td>WD</td>\n",
       "      <td>Normal</td>\n",
       "      <td>181500</td>\n",
       "    </tr>\n",
       "    <tr>\n",
       "      <th>2</th>\n",
       "      <td>3</td>\n",
       "      <td>60</td>\n",
       "      <td>RL</td>\n",
       "      <td>68.0</td>\n",
       "      <td>11250</td>\n",
       "      <td>Pave</td>\n",
       "      <td>NaN</td>\n",
       "      <td>IR1</td>\n",
       "      <td>Lvl</td>\n",
       "      <td>AllPub</td>\n",
       "      <td>...</td>\n",
       "      <td>0</td>\n",
       "      <td>NaN</td>\n",
       "      <td>NaN</td>\n",
       "      <td>NaN</td>\n",
       "      <td>0</td>\n",
       "      <td>9</td>\n",
       "      <td>2008</td>\n",
       "      <td>WD</td>\n",
       "      <td>Normal</td>\n",
       "      <td>223500</td>\n",
       "    </tr>\n",
       "    <tr>\n",
       "      <th>3</th>\n",
       "      <td>4</td>\n",
       "      <td>70</td>\n",
       "      <td>RL</td>\n",
       "      <td>60.0</td>\n",
       "      <td>9550</td>\n",
       "      <td>Pave</td>\n",
       "      <td>NaN</td>\n",
       "      <td>IR1</td>\n",
       "      <td>Lvl</td>\n",
       "      <td>AllPub</td>\n",
       "      <td>...</td>\n",
       "      <td>0</td>\n",
       "      <td>NaN</td>\n",
       "      <td>NaN</td>\n",
       "      <td>NaN</td>\n",
       "      <td>0</td>\n",
       "      <td>2</td>\n",
       "      <td>2006</td>\n",
       "      <td>WD</td>\n",
       "      <td>Abnorml</td>\n",
       "      <td>140000</td>\n",
       "    </tr>\n",
       "    <tr>\n",
       "      <th>4</th>\n",
       "      <td>5</td>\n",
       "      <td>60</td>\n",
       "      <td>RL</td>\n",
       "      <td>84.0</td>\n",
       "      <td>14260</td>\n",
       "      <td>Pave</td>\n",
       "      <td>NaN</td>\n",
       "      <td>IR1</td>\n",
       "      <td>Lvl</td>\n",
       "      <td>AllPub</td>\n",
       "      <td>...</td>\n",
       "      <td>0</td>\n",
       "      <td>NaN</td>\n",
       "      <td>NaN</td>\n",
       "      <td>NaN</td>\n",
       "      <td>0</td>\n",
       "      <td>12</td>\n",
       "      <td>2008</td>\n",
       "      <td>WD</td>\n",
       "      <td>Normal</td>\n",
       "      <td>250000</td>\n",
       "    </tr>\n",
       "  </tbody>\n",
       "</table>\n",
       "<p>5 rows × 81 columns</p>\n",
       "</div>"
      ],
      "text/plain": [
       "   Id  MSSubClass MSZoning  LotFrontage  LotArea Street Alley LotShape  \\\n",
       "0   1          60       RL         65.0     8450   Pave   NaN      Reg   \n",
       "1   2          20       RL         80.0     9600   Pave   NaN      Reg   \n",
       "2   3          60       RL         68.0    11250   Pave   NaN      IR1   \n",
       "3   4          70       RL         60.0     9550   Pave   NaN      IR1   \n",
       "4   5          60       RL         84.0    14260   Pave   NaN      IR1   \n",
       "\n",
       "  LandContour Utilities  ... PoolArea PoolQC Fence MiscFeature MiscVal MoSold  \\\n",
       "0         Lvl    AllPub  ...        0    NaN   NaN         NaN       0      2   \n",
       "1         Lvl    AllPub  ...        0    NaN   NaN         NaN       0      5   \n",
       "2         Lvl    AllPub  ...        0    NaN   NaN         NaN       0      9   \n",
       "3         Lvl    AllPub  ...        0    NaN   NaN         NaN       0      2   \n",
       "4         Lvl    AllPub  ...        0    NaN   NaN         NaN       0     12   \n",
       "\n",
       "  YrSold  SaleType  SaleCondition  SalePrice  \n",
       "0   2008        WD         Normal     208500  \n",
       "1   2007        WD         Normal     181500  \n",
       "2   2008        WD         Normal     223500  \n",
       "3   2006        WD        Abnorml     140000  \n",
       "4   2008        WD         Normal     250000  \n",
       "\n",
       "[5 rows x 81 columns]"
      ]
     },
     "execution_count": 6,
     "metadata": {},
     "output_type": "execute_result"
    }
   ],
   "source": [
    "src_train, src_test = dataset.get_source_data()\n",
    "src_train.head(5)"
   ]
  },
  {
   "cell_type": "code",
   "execution_count": 7,
   "id": "c366b0d1",
   "metadata": {},
   "outputs": [
    {
     "data": {
      "text/plain": [
       "((1095, 79), (365, 79))"
      ]
     },
     "execution_count": 7,
     "metadata": {},
     "output_type": "execute_result"
    }
   ],
   "source": [
    "# Выборки для обучения и валидации\n",
    "X_train, X_holdout, y_train, y_holdout = dataset.get_train_test_split()\n",
    "X_train.shape, X_holdout.shape"
   ]
  },
  {
   "cell_type": "code",
   "execution_count": 8,
   "id": "37339671",
   "metadata": {},
   "outputs": [],
   "source": [
    "# Полная (обучающая) выборка\n",
    "X, y = dataset.get_train_data()"
   ]
  },
  {
   "cell_type": "code",
   "execution_count": 9,
   "id": "f3d1a758",
   "metadata": {},
   "outputs": [],
   "source": [
    "# Тестовая выборка для предикта\n",
    "X_test = dataset.get_test_data()\n",
    "id_test = dataset.get_test_id()"
   ]
  },
  {
   "cell_type": "markdown",
   "id": "1a8e26cc",
   "metadata": {},
   "source": [
    "## EDA для исходных/предобработанных данных"
   ]
  },
  {
   "cell_type": "code",
   "execution_count": 10,
   "id": "6bcbaebb",
   "metadata": {},
   "outputs": [
    {
     "data": {
      "image/png": "[encoded data removed]",
      "text/plain": [
       "<Figure size 432x288 with 1 Axes>"
      ]
     },
     "metadata": {
      "needs_background": "light"
     },
     "output_type": "display_data"
    }
   ],
   "source": [
    "sns.scatterplot(data=X, x='MSSubClass', y='LotFrontage');"
   ]
  },
  {
   "cell_type": "code",
   "execution_count": 11,
   "id": "93768da9",
   "metadata": {},
   "outputs": [
    {
     "data": {
      "text/plain": [
       "Ellipsis"
      ]
     },
     "execution_count": 11,
     "metadata": {},
     "output_type": "execute_result"
    }
   ],
   "source": [
    "..."
   ]
  },
  {
   "cell_type": "markdown",
   "id": "c357c116",
   "metadata": {},
   "source": [
    "## Baseline (Применение моделей)"
   ]
  },
  {
   "cell_type": "code",
   "execution_count": 12,
   "id": "b33ea869",
   "metadata": {},
   "outputs": [
    {
     "data": {
      "text/plain": [
       "Ellipsis"
      ]
     },
     "execution_count": 12,
     "metadata": {},
     "output_type": "execute_result"
    }
   ],
   "source": [
    "..."
   ]
  }
 ],
 "metadata": {
  "kernelspec": {
   "display_name": "Python 3 (ipykernel)",
   "language": "python",
   "name": "python3"
  },
  "language_info": {
   "codemirror_mode": {
    "name": "ipython",
    "version": 3
   },
   "file_extension": ".py",
   "mimetype": "text/x-python",
   "name": "python",
   "nbconvert_exporter": "python",
   "pygments_lexer": "ipython3",
   "version": "3.9.12"
  }
 },
 "nbformat": 4,
 "nbformat_minor": 5
}

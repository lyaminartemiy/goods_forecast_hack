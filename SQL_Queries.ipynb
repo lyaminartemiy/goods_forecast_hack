{
 "cells": [
  {
   "cell_type": "code",
   "execution_count": 190,
   "metadata": {
    "ExecuteTime": {
     "end_time": "2023-10-22T09:40:29.119472700Z",
     "start_time": "2023-10-22T09:40:29.109894900Z"
    }
   },
   "outputs": [],
   "source": [
    "import datetime\n",
    "import pyodbc\n",
    "import pandas as pd\n",
    "import numpy as np\n",
    "import matplotlib.pyplot as plt\n",
    "\n",
    "import warnings\n",
    "warnings.filterwarnings(\"ignore\")"
   ]
  },
  {
   "cell_type": "markdown",
   "metadata": {},
   "source": [
    "## Всем привет! Здесь описано подключение к БД, примеры запросов и тд.\n",
    "\n",
    "### Обратите внимание на признак Probability - его использование зависит от выбранного вами направления. \n",
    "### Просим в явном виде отображать его исключение в 1 направлении, мы будем каждый ноутбук проверять и прогонять модели руками (просьба не мухлевать и не использовать информацию из будущего в признаках - мы все заметим :) )"
   ]
  },
  {
   "cell_type": "markdown",
   "metadata": {},
   "source": [
    "## Формат выгрузки csv-файла (столбцы):\n",
    "### Для чек-поинтов - это на тренировочных данных, для финального резульата - на тестовых данных\n",
    "\n",
    "1.   LocationId\n",
    "2.   ProductId\n",
    "3.   ValidationDateTime\n",
    "4.   CalculatedProbability (вычисленная вами вероятность - predict_proba() )\n",
    "\n",
    "### Также будет очень приятно, если вы нам выведите feature_importances в виде картиночки :)"
   ]
  },
  {
   "cell_type": "code",
   "execution_count": 191,
   "metadata": {
    "ExecuteTime": {
     "end_time": "2023-10-22T09:40:35.347671100Z",
     "start_time": "2023-10-22T09:40:34.710324300Z"
    }
   },
   "outputs": [],
   "source": [
    "conn_str = \"\"\"\n",
    "    Driver={ODBC Driver 17 for SQL Server};\n",
    "    Server=109.71.11.235;\n",
    "    Database=GFC.Hackathon;\n",
    "    UID=participant;\n",
    "    PWD=AiNRYmEatiBL;\n",
    "\"\"\"\n",
    "\n",
    "conn = pyodbc.connect(conn_str)"
   ]
  },
  {
   "cell_type": "code",
   "execution_count": 214,
   "outputs": [],
   "source": [
    "data_query = \"\"\"\n",
    "SELECT * FROM dbo.Features \n",
    "\"\"\""
   ],
   "metadata": {
    "collapsed": false,
    "ExecuteTime": {
     "end_time": "2023-10-22T10:37:53.487950Z",
     "start_time": "2023-10-22T10:37:53.471994700Z"
    }
   }
  },
  {
   "cell_type": "code",
   "execution_count": 139,
   "outputs": [],
   "source": [
    "query = \"\"\"\n",
    "SELECT\n",
    "LocationId,\n",
    "ProductId,\n",
    "ValidationDateTime,\n",
    "IsCorrect,\n",
    "LAG(IsCorrect, 1) OVER (PARTITION BY LocationId, ProductId ORDER BY ValidationDateTime) AS lag_1_iscorrect,\n",
    "LAG(IsCorrect, 2) OVER (PARTITION BY LocationId, ProductId ORDER BY ValidationDateTime) AS lag_2_iscorrect,\n",
    "LAG(IsCorrect, 3) OVER (PARTITION BY LocationId, ProductId ORDER BY ValidationDateTime) AS lag_3_iscorrect,\n",
    "LAG(IsCorrect, 4) OVER (PARTITION BY LocationId, ProductId ORDER BY ValidationDateTime) AS lag_4_iscorrect,\n",
    "LAG(IsCorrect, 5) OVER (PARTITION BY LocationId, ProductId ORDER BY ValidationDateTime) AS lag_5_iscorrect\n",
    "FROM dbo.Features s\n",
    "ORDER BY LocationId, ProductId, ValidationDateTime;\n",
    "\"\"\""
   ],
   "metadata": {
    "collapsed": false,
    "ExecuteTime": {
     "end_time": "2023-10-22T09:04:33.536414500Z",
     "start_time": "2023-10-22T09:04:33.421855700Z"
    }
   }
  },
  {
   "cell_type": "code",
   "execution_count": null,
   "outputs": [],
   "source": [
    "last_price_query = \"\"\"\n",
    "        SELECT\n",
    "        s.IsCorrect ,\n",
    "        s.LocationId ,\n",
    "        s.ProductId ,\n",
    "        s.ValidationDateTime ,\n",
    "        p.Datetime ,\n",
    "        p.PriceSum,\n",
    "        p.Quantity\n",
    "        FROM dbo.Features AS s\n",
    "        LEFT JOIN dbo.LocationStateHourSales AS p\n",
    "        ON s.LocationId  = p.LocationId\n",
    "        AND s.ProductId  = p.ProductId\n",
    "        AND p.Datetime  < s.ValidationDateTime\n",
    "        ORDER BY ValidationDateTime DESC, Datetime DESC\n",
    "        \"\"\""
   ],
   "metadata": {
    "collapsed": false
   }
  },
  {
   "cell_type": "markdown",
   "source": [],
   "metadata": {
    "collapsed": false
   }
  },
  {
   "cell_type": "code",
   "execution_count": 81,
   "outputs": [],
   "source": [
    "query_features_HourSales = \"\"\"\n",
    "with history_transactions as (\n",
    "        SELECT\n",
    "        s.IsCorrect ,\n",
    "        s.LocationId ,\n",
    "        s.ProductId ,\n",
    "        s.ValidationDateTime ,\n",
    "        p.Datetime ,\n",
    "        p.PriceSum,\n",
    "        p.Quantity\n",
    "        FROM dbo.Features AS s\n",
    "        LEFT JOIN dbo.LocationStateHourSales AS p\n",
    "        ON s.LocationId  = p.LocationId\n",
    "        AND s.ProductId  = p.ProductId\n",
    "        AND p.Datetime  < s.ValidationDateTime)\n",
    "        --ORDER BY ValidationDateTime DESC, Datetime DESC)\n",
    "    SELECT  IsCorrect, LocationId,\n",
    "ProductId,\n",
    "ValidationDateTime,\n",
    "--Цена\n",
    "AVG(PriceSum) as mean_price,\n",
    "max(PriceSum) as max_price,\n",
    "min(PriceSum) as min_price,\n",
    "max(PriceSum) - min(PriceSum) as range_price,\n",
    "--VARIANCE(PriceSum) as variance_price,\n",
    "SUM(PriceSum) as sum_price,\n",
    "--Количество\n",
    "AVG(Quantity) as mean_quantity,\n",
    "max(Quantity) as max_quantity,\n",
    "min(Quantity) as min_quantity,\n",
    "max(Quantity) - min(Quantity) as range_quantity,\n",
    "--VARIANCE(Quantity) as variance_quantity,\n",
    "SUM(PriceSum) as sum_quantity,\n",
    "--Количество вхождений\n",
    "count(*) as cnt\n",
    "FROM history_transactions\n",
    "GROUP BY LocationId, ProductId, ValidationDateTime, IsCorrect\n",
    "\"\"\""
   ],
   "metadata": {
    "collapsed": false,
    "ExecuteTime": {
     "end_time": "2023-10-21T18:55:42.624790300Z",
     "start_time": "2023-10-21T18:55:42.621799100Z"
    }
   }
  },
  {
   "cell_type": "code",
   "execution_count": 202,
   "outputs": [],
   "source": [
    "query_features_Stocks = \"\"\"\n",
    "with history_transactions as (\n",
    "        SELECT\n",
    "        s.LocationId ,\n",
    "        s.ProductId ,\n",
    "        s.ValidationDateTime ,\n",
    "        p.Datetime ,\n",
    "        p.Quantity\n",
    "        FROM dbo.Features AS s\n",
    "        LEFT JOIN dbo.LocationStateStocks AS p\n",
    "        ON s.LocationId  = p.LocationId\n",
    "        AND s.ProductId  = p.ProductId\n",
    "        AND p.Datetime  < s.ValidationDateTime)\n",
    "        --ORDER BY ValidationDateTime DESC, Datetime DESC)\n",
    "    SELECT  LocationId,\n",
    "ProductId,\n",
    "ValidationDateTime,\n",
    "--Количество\n",
    "AVG(Quantity) as mean_quantity,\n",
    "max(Quantity) as max_quantity,\n",
    "min(Quantity) as min_quantity,\n",
    "max(Quantity) - min(Quantity) as range_quantity,\n",
    "--VARIANCE(Quantity) as variance_quantity,\n",
    "SUM(Quantity) as sum_quantity,\n",
    "--Количество вхождений\n",
    "count(*) as cnt\n",
    "FROM history_transactions\n",
    "GROUP BY LocationId, ProductId, ValidationDateTime\n",
    "\"\"\""
   ],
   "metadata": {
    "collapsed": false,
    "ExecuteTime": {
     "end_time": "2023-10-22T09:45:26.884917100Z",
     "start_time": "2023-10-22T09:45:26.862975800Z"
    }
   }
  },
  {
   "cell_type": "code",
   "execution_count": 203,
   "metadata": {
    "ExecuteTime": {
     "end_time": "2023-10-22T09:46:00.813576700Z",
     "start_time": "2023-10-22T09:45:30.684382500Z"
    }
   },
   "outputs": [],
   "source": [
    "# пример запросов - здесь выведен весь датасет признаков\n",
    "df = pd.read_sql(query_features_Stocks, conn)\n",
    "df.to_csv('stocks_features.csv')"
   ]
  },
  {
   "cell_type": "code",
   "execution_count": null,
   "outputs": [],
   "source": [
    "df = pd.read_sql(last_price_query, conn)\n",
    "df_not_duplicates = df.drop_duplicates(subset=(['LocationId', 'ProductId', 'ValidationDateTime']))\n",
    "df_not_duplicates.to_csv('last_price_quant.csv')\n"
   ],
   "metadata": {
    "collapsed": false
   }
  },
  {
   "cell_type": "code",
   "execution_count": 215,
   "outputs": [],
   "source": [
    "import pandas as pd\n",
    "df = pd.read_sql(data_query, conn) #Стандартный файл с выгрузкой с dbeaver, который был в телеграмме изначально использовался, но в последний момент заменяю на запрос. Возможно будут дубликаты\n",
    "df = df.sort_values(by=['LocationId', 'ProductId', 'ValidationDateTime'])"
   ],
   "metadata": {
    "collapsed": false,
    "ExecuteTime": {
     "end_time": "2023-10-22T10:38:15.793608300Z",
     "start_time": "2023-10-22T10:38:05.637650500Z"
    }
   }
  },
  {
   "cell_type": "code",
   "execution_count": 217,
   "outputs": [],
   "source": [
    "df['lag_1_5_mean'] = df.iloc[:,4:9].mean(axis=1)\n",
    "df['lag_1_2_mean'] = df.iloc[:,4:6].mean(axis=1)\n",
    "df['lag_1_3_mean'] = df.iloc[:,4:7].mean(axis=1)\n",
    "df['lag_1_4_mean'] = df.iloc[:,4:8].mean(axis=1)\n",
    "df['lag_2_5_mean'] = df.iloc[:,5:9].mean(axis=1)\n",
    "df['lag_3_5_mean'] = df.iloc[:,6:9].mean(axis=1)\n",
    "df['lag_4_5_mean'] = df.iloc[:,7:9].mean(axis=1)"
   ],
   "metadata": {
    "collapsed": false,
    "ExecuteTime": {
     "end_time": "2023-10-22T10:38:35.341877800Z",
     "start_time": "2023-10-22T10:38:34.709718800Z"
    }
   }
  },
  {
   "cell_type": "code",
   "execution_count": 71,
   "outputs": [],
   "source": [
    "df['lag_1_5_var'] = df.iloc[:, 4:9].var(axis=1)\n",
    "df['lag_1_2_var'] = df.iloc[:, 4:6].var(axis=1)\n",
    "df['lag_1_3_var'] = df.iloc[:, 4:7].var(axis=1)\n",
    "df['lag_1_4_var'] = df.iloc[:, 4:8].var(axis=1)\n",
    "df['lag_2_5_var'] = df.iloc[:, 5:9].var(axis=1)\n",
    "df['lag_3_5_var'] = df.iloc[:, 6:9].var(axis=1)\n",
    "df['lag_4_5_var'] = df.iloc[:, 7:9].var(axis=1)"
   ],
   "metadata": {
    "collapsed": false,
    "ExecuteTime": {
     "end_time": "2023-10-22T06:43:18.285345600Z",
     "start_time": "2023-10-22T06:43:14.132957Z"
    }
   }
  },
  {
   "cell_type": "code",
   "execution_count": 80,
   "outputs": [],
   "source": [
    "df['lag_1_5_std'] = df.iloc[:, 4:9].std(axis=1)\n",
    "df['lag_1_2_std'] = df.iloc[:, 4:6].std(axis=1)\n",
    "df['lag_1_3_std'] = df.iloc[:, 4:7].std(axis=1)\n",
    "df['lag_1_4_std'] = df.iloc[:, 4:8].std(axis=1)\n",
    "df['lag_2_5_std'] = df.iloc[:, 5:9].std(axis=1)\n",
    "df['lag_3_5_std'] = df.iloc[:, 6:9].std(axis=1)\n",
    "df['lag_4_5_std'] = df.iloc[:, 7:9].std(axis=1)"
   ],
   "metadata": {
    "collapsed": false,
    "ExecuteTime": {
     "end_time": "2023-10-22T06:47:44.645025300Z",
     "start_time": "2023-10-22T06:47:42.379045900Z"
    }
   }
  },
  {
   "cell_type": "code",
   "execution_count": 82,
   "outputs": [],
   "source": [
    "df.to_csv('lag_1_5_mean_std_var.csv')"
   ],
   "metadata": {
    "collapsed": false,
    "ExecuteTime": {
     "end_time": "2023-10-22T06:48:31.589509900Z",
     "start_time": "2023-10-22T06:48:26.759607900Z"
    }
   }
  },
  {
   "cell_type": "code",
   "execution_count": 121,
   "outputs": [],
   "source": [
    "# пример запросов - здесь выведен весь датасет признаков\n",
    "df = pd.read_sql(query_features_HourSales, conn)\n",
    "df.to_csv('features_22.csv')"
   ],
   "metadata": {
    "collapsed": false,
    "ExecuteTime": {
     "end_time": "2023-10-21T19:12:28.993774500Z",
     "start_time": "2023-10-21T19:12:23.229042800Z"
    }
   }
  }
 ],
 "metadata": {
  "kernelspec": {
   "display_name": "Python 3",
   "language": "python",
   "name": "python3"
  },
  "language_info": {
   "codemirror_mode": {
    "name": "ipython",
    "version": 3
   },
   "file_extension": ".py",
   "mimetype": "text/x-python",
   "name": "python",
   "nbconvert_exporter": "python",
   "pygments_lexer": "ipython3",
   "version": "3.9.0"
  }
 },
 "nbformat": 4,
 "nbformat_minor": 4
}
